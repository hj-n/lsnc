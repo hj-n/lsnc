{
 "cells": [
  {
   "cell_type": "markdown",
   "metadata": {},
   "source": [
    "### Library Import"
   ]
  },
  {
   "cell_type": "code",
   "execution_count": 1,
   "metadata": {},
   "outputs": [],
   "source": [
    "import sys\n",
    "sys.path.append('../')\n",
    "import importlib\n",
    "\n",
    "\n",
    "import numpy as np\n",
    "import matplotlib.pyplot as plt\n",
    "import seaborn as sns\n",
    "from sklearn.datasets import load_digits\n",
    "from sklearn.decomposition import PCA\n",
    "from tqdm import tqdm\n",
    "\n",
    "from sklearn.manifold import TSNE\n",
    "\n",
    "from lsnc import lsnc\n",
    "import metrics as mts\n",
    "importlib.reload(lsnc)\n",
    "importlib.reload(mts)\n",
    "\n",
    "## turn off warning\n",
    "import warnings\n",
    "warnings.filterwarnings(\"ignore\")\n",
    "\n",
    "dr_measures = [\n",
    "\t\"ls_btw_ch\", \"lc_btw_ch\", \"stead\", \"cohev\", \"sil\",\n",
    "\t\"trust\", \"conti\", \"mrre_hl\", \"mrre_lh\",\n",
    "\t\"kl_div\", \"dtm\"\n",
    "]\n",
    "dr_measures_name = [\n",
    "\t\"Label-Stretching\", \"Label-Compression\", \"Steadiness\", \"Cohesiveness\", \"Silhouette\",\n",
    "\t\"Trustworthiness\", \"Continuity\", \"MRRE-HL\", \"MRRE-LH\",\n",
    "\t\"KL-Divergence\", \"DTM\"\n",
    "]\n",
    "type = [\n",
    "\t\"cluster\", \"cluster\", \"cluster\", \"cluster\", \"cluster\",\n",
    "\t\"local\", \"local\", \"local\", \"local\",\n",
    "\t\"global\", \"global\"\n",
    "]\n",
    "dr_measures_line_width = [2, 2, 1, 1, 1, 1, 1, 1, 1, 1, 1]\n",
    "linestyle_list = [\n",
    "\t\"solid\", \"solid\", \"solid\", \"solid\", \"solid\",\n",
    "\t\"dashed\", \"dashed\", \"dashed\", \"dashed\",\n",
    "\t\"dotted\", \"dotted\"\n",
    "]\n",
    "k_cand = [5, 10, 15, 20, 25]\n",
    "sigma_cand = [0.01, 0.1, 1]"
   ]
  },
  {
   "cell_type": "code",
   "execution_count": 2,
   "metadata": {},
   "outputs": [],
   "source": [
    "def run_all_metrics(raw, emb, labels, k_cand, sigma_cand):\n",
    "\t\"\"\"\n",
    "\tcompute all metrics\n",
    "\t\"\"\"\n",
    "\tfinal_results = {}\n",
    "\n",
    "\t## LS & LC\n",
    "\tlsnc_obj = lsnc.LSNC(raw, emb, labels)\n",
    "\tresults = lsnc_obj.run()\n",
    "\tfinal_results[\"ls_btw_ch\"] = results[\"ls\"]\n",
    "\tfinal_results[\"lc_btw_ch\"] = results[\"lc\"]\n",
    "\n",
    "\t## Steadiness & Cohesiveness\n",
    "\tresults = mts.stead_cohev(raw, emb)\n",
    "\tfinal_results[\"stead\"] = results[\"stead\"]\n",
    "\tfinal_results[\"cohev\"] = results[\"cohev\"]\n",
    "\n",
    "\t## Silhouette\n",
    "\tfinal_results[\"sil\"] = mts.silhouette(emb, labels)\n",
    "\n",
    "\t## Trust / Conti / MRRE\n",
    "\ttrust, conti, mrre_hl, mrre_lh = 0, 0, 0, 0\n",
    "\tfor k in k_cand:\n",
    "\t\tresults = mts.trust_conti_mrre(raw, emb, k = k)\n",
    "\t\ttrust += results[\"trust\"]\n",
    "\t\tconti += results[\"conti\"]\n",
    "\t\tmrre_hl += results[\"mrre_hl\"]\n",
    "\t\tmrre_lh += results[\"mrre_lh\"]\n",
    "\tfinal_results[\"trust\"] = trust / len(k_cand)\n",
    "\tfinal_results[\"conti\"] = conti / len(k_cand)\n",
    "\tfinal_results[\"mrre_hl\"] = mrre_hl / len(k_cand)\n",
    "\tfinal_results[\"mrre_lh\"] = mrre_lh / len(k_cand)\n",
    "\n",
    "\t## KL / DTM\n",
    "\tkl_div, dtm = 0, 0, \n",
    "\tfor sigma in sigma_cand:\n",
    "\t\tresults = mts.kl_div_rmse_dtm(raw, emb, sigma = sigma)\n",
    "\t\tkl_div += results[\"kl_div\"]\n",
    "\t\tdtm += results[\"dtm\"]\n",
    "\tfinal_results[\"kl_div\"] = kl_div / len(sigma_cand)\n",
    "\tfinal_results[\"dtm\"] = dtm / len(sigma_cand)\n",
    "\tresults = mts.kl_div_rmse_dtm(raw, emb)\n",
    "\n",
    "\treturn final_results\t"
   ]
  },
  {
   "cell_type": "code",
   "execution_count": 3,
   "metadata": {},
   "outputs": [],
   "source": [
    "## function to plot the results using seabron (line chart)\n",
    "def lineplot_results(results_list_dict, title, x_list = None, invert_x_axis=False):\n",
    "\n",
    "\tif (x_list is None):\n",
    "\t\tx_list = range(1, len(results_list_dict[dr_measure]) + 1)\n",
    "\n",
    "\tplt.figure(figsize=(5.5, 3))\n",
    "\tfor i, dr_measure in enumerate(dr_measures):\n",
    "\t\tplt.plot(\n",
    "\t\t\tx_list, results_list_dict[dr_measure], \n",
    "\t\t\tlabel = dr_measures_name[i], linewidth = dr_measures_line_width[i],\n",
    "\t\t\tlinestyle=linestyle_list[i]\n",
    "\t\t)\n",
    "\n",
    "\tif (invert_x_axis):\n",
    "\t\tplt.gca().invert_xaxis()\n",
    "\n",
    "\t## show legend outside the plot\n",
    "\tplt.legend(bbox_to_anchor=(1.05, 1), loc=2, borderaxespad=0.)\n",
    "\n",
    "\t## save fig with high resolution\n",
    "\tplt.tight_layout()\n",
    "\tplt.savefig(f\"./plot/{title}.png\", dpi=300)\n",
    "\n",
    "\tplt.show()"
   ]
  },
  {
   "cell_type": "code",
   "execution_count": 9,
   "metadata": {},
   "outputs": [],
   "source": [
    "def compute_metrics(raws, embs, labels, list_num, path):\n",
    "\tresults_list_dict = {}\n",
    "\tfor dr_measure in dr_measures:\n",
    "\t\tresults_list_dict[dr_measure] = [] \n",
    "\n",
    "\tfor i in tqdm(range(list_num)):\n",
    "\t\t## if the type of raw is list,\n",
    "\t\tif isinstance(raws, list):\n",
    "\t\t\traw = raws[i]\n",
    "\t\t\temb = embs\n",
    "\t\telse:\n",
    "\t\t\traw = raws\n",
    "\t\t\temb = embs[i]\n",
    "\n",
    "\t\tfinal_results = run_all_metrics(raw, emb, labels, k_cand, sigma_cand)\n",
    "\t\tfor dr_measure in dr_measures:\n",
    "\t\t\tresults_list_dict[dr_measure].append(final_results[dr_measure])\n",
    "\n",
    "\tfor dr_measure in dr_measures:\n",
    "\t\tresults_list_dict[dr_measure] = np.array(results_list_dict[dr_measure])\n",
    "\n",
    "\t## Save the results\n",
    "\tfor dr_measure in dr_measures:\n",
    "\t\tnp.save(f\"./results/{path}/{dr_measure}.npy\", np.array(results_list_dict[dr_measure]))\n",
    "\t\n",
    "\treturn results_list_dict\n"
   ]
  },
  {
   "cell_type": "markdown",
   "metadata": {},
   "source": [
    "### Experiment 1 (6 hyperspheres and overlapping classes)"
   ]
  },
  {
   "cell_type": "code",
   "execution_count": 10,
   "metadata": {},
   "outputs": [],
   "source": [
    "raw, labels = np.load(\"./spheres_data/data/raw.npy\"), np.load(\"./spheres_data/data/label.npy\")\n",
    "embs = []\n",
    "for i in range(25):\n",
    "\tembs.append(np.load(f\"./spheres_data/data/overlapping/circle_{i}.npy\"))"
   ]
  },
  {
   "cell_type": "code",
   "execution_count": null,
   "metadata": {},
   "outputs": [],
   "source": [
    "results_list_dict = compute_metrics(raw, embs, labels, 25, \"overlapping_circles\")\n",
    "lineplot_results(results_list_dict, \"overlapping_circles\", x_list = np.linspace(60, 0, 25))"
   ]
  },
  {
   "cell_type": "markdown",
   "metadata": {},
   "source": [
    "### Experiment 2 (6 hyperspheres and overlapping hd spheres)"
   ]
  },
  {
   "cell_type": "code",
   "execution_count": 11,
   "metadata": {},
   "outputs": [],
   "source": [
    "emb, labels = np.load(\"./spheres_data/data/overlapping_raw/emb.npy\"), np.load(\"./spheres_data/data/overlapping_raw/label.npy\")\n",
    "raws = []\n",
    "for i in range(25):\n",
    "\traws.append(np.load(f\"./spheres_data/data/overlapping_raw/raw_{i}.npy\"))"
   ]
  },
  {
   "cell_type": "code",
   "execution_count": null,
   "metadata": {},
   "outputs": [],
   "source": [
    "results_list_dict = compute_metrics(raws, emb, labels, 25, \"overlapping_raw\")\n",
    "lineplot_results(results_list_dict, \"overlapping_raw\", x_list = np.linspace(30, 0, 25))"
   ]
  },
  {
   "cell_type": "markdown",
   "metadata": {},
   "source": [
    "### Experiment 3 (PCA Expansion test)"
   ]
  },
  {
   "cell_type": "markdown",
   "metadata": {},
   "source": [
    "#### Currently with digits dataset"
   ]
  },
  {
   "cell_type": "code",
   "execution_count": 71,
   "metadata": {},
   "outputs": [],
   "source": [
    "## Dataset Generation (with digits data)\n",
    "raw, labels = load_digits(return_X_y=True)\n",
    "range_limit = 15\n",
    "emb_pca = PCA(n_components=range_limit + 5).fit_transform(raw)\n",
    "\n",
    "embs = []\n",
    "for i in range(range_limit):\n",
    "\temb = emb_pca[:, :i+1]\n",
    "\tembs.append(emb)"
   ]
  },
  {
   "cell_type": "code",
   "execution_count": null,
   "metadata": {},
   "outputs": [],
   "source": [
    "## Compute metrics\n",
    "results_list_dict = compute_metrics(raw, embs, labels, range_limit, \"pca_expansion_digits\")\n",
    "lineplot_results(results_list_dict, \"pca_expansion\")"
   ]
  },
  {
   "cell_type": "markdown",
   "metadata": {},
   "source": [
    "### Experiment 4 (2D PCA with decreasing component ranks)"
   ]
  },
  {
   "cell_type": "markdown",
   "metadata": {},
   "source": [
    "#### Currently With digits dataset"
   ]
  },
  {
   "cell_type": "code",
   "execution_count": 78,
   "metadata": {},
   "outputs": [],
   "source": [
    "## Dataset Generation (with digits data)\n",
    "raw, labels = load_digits(return_X_y=True)\n",
    "range_limit = 15\n",
    "emb_pca = PCA(n_components=range_limit + 5).fit_transform(raw)\n",
    "\n",
    "embs = []\n",
    "for i in range(range_limit):\n",
    "\temb = emb_pca[:, i:i+2]\n",
    "\tembs.append(emb)"
   ]
  },
  {
   "cell_type": "code",
   "execution_count": null,
   "metadata": {},
   "outputs": [],
   "source": [
    "## compute the metrics of the original data and save\n",
    "results_list_dict = compute_metrics(raw, embs, labels, range_limit, \"pca_decreasing_digits\")\n",
    "lineplot_results(results_list_dict, \"pca_decreasing\")"
   ]
  }
 ],
 "metadata": {
  "kernelspec": {
   "display_name": "Python 3.8.5 ('base': conda)",
   "language": "python",
   "name": "python3"
  },
  "language_info": {
   "codemirror_mode": {
    "name": "ipython",
    "version": 3
   },
   "file_extension": ".py",
   "mimetype": "text/x-python",
   "name": "python",
   "nbconvert_exporter": "python",
   "pygments_lexer": "ipython3",
   "version": "3.8.5"
  },
  "orig_nbformat": 4,
  "vscode": {
   "interpreter": {
    "hash": "999de06ac1450a78a70b06b4b0bc96519bd96aac782a45474dde65c4f0c889b7"
   }
  }
 },
 "nbformat": 4,
 "nbformat_minor": 2
}
