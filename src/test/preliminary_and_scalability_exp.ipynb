{
 "cells": [
  {
   "cell_type": "code",
   "execution_count": 1,
   "metadata": {},
   "outputs": [],
   "source": [
    "import sys\n",
    "sys.path.append('../')\n",
    "import numpy as np\n",
    "import os\n",
    "from sklearn.manifold import TSNE, LocallyLinearEmbedding, Isomap\n",
    "from sklearn.decomposition import PCA\n",
    "from sklearn.random_projection import GaussianRandomProjection, SparseRandomProjection\n",
    "from sklearn.discriminant_analysis import LinearDiscriminantAnalysis\n",
    "import umap\n",
    "from tqdm import tqdm\n",
    "import pandas as pd\n",
    "import matplotlib.pyplot as plt\n",
    "import seaborn as sns\n",
    "import statsmodels.api as sm\n",
    "from statsmodels.formula.api import ols\n",
    "import statsmodels.stats.multicomp as mc\n",
    "from metrics import *\n",
    "from scipy import stats\n",
    "\n",
    "\n",
    "## turn off warning\n",
    "import warnings\n",
    "warnings.filterwarnings(\"ignore\")\n",
    "\n",
    "## generating the list of datasets\n",
    "datasets = []\n",
    "for directory in os.listdir(\"./labeled-datasets/npy/\"):\n",
    "\tif (\n",
    "\t\tdirectory != \".DS_Store\"\n",
    "\t\tand directory != \"README.md\"\n",
    "\t\tand directory != \".gitignore\"\n",
    "\t\tand not directory.endswith(\".zip\")\n",
    "\t):\n",
    "\t\tdatasets.append(directory)"
   ]
  },
  {
   "cell_type": "markdown",
   "metadata": {},
   "source": [
    "### Dataset (Embedding) Generation"
   ]
  },
  {
   "cell_type": "markdown",
   "metadata": {},
   "source": [
    "#### Generating different embeddings"
   ]
  },
  {
   "cell_type": "code",
   "execution_count": 3,
   "metadata": {},
   "outputs": [
    {
     "name": "stderr",
     "output_type": "stream",
     "text": [
      "100%|██████████| 94/94 [1:41:27<00:00, 64.76s/it]   \n"
     ]
    }
   ],
   "source": [
    "for dataset in tqdm(datasets):\n",
    "\traw = np.load(f\"./labeled-datasets/npy/{dataset}/data.npy\")\n",
    "\traw = np.load(f\"./labeled-datasets/npy/{dataset}/data.npy\")\n",
    "\traw = (raw - raw.mean(axis=0)) / raw.std(axis=0)\n",
    "\traw = raw[:, ~np.isnan(raw).any(axis=0)]\n",
    "\tlabels = np.load(f\"./labeled-datasets/npy/{dataset}/label.npy\")\n",
    "\tdensmap_emb = umap.UMAP(densmap=True).fit_transform(raw)\n",
    "\tisomap_emb = Isomap(n_components=2).fit_transform(raw)\n",
    "\tlle_emb = LocallyLinearEmbedding(n_components=2, eigen_solver=\"dense\").fit_transform(raw)\n",
    "\tumap_emb = umap.UMAP(n_components=2).fit_transform(raw)\n",
    "\ttsne_emb = TSNE(n_components=2).fit_transform(raw)\n",
    "\tpca_emb = PCA(n_components=2).fit_transform(raw)\n",
    "\trandom_emb = SparseRandomProjection(n_components=2).fit_transform(raw)\n",
    "\tif len(np.unique(labels)) > 2:\n",
    "\t\tlda_emb = LinearDiscriminantAnalysis(n_components=2).fit_transform(raw, labels)\n",
    "\n",
    "\t## if the directory does not exists, make it\n",
    "\tif not os.path.exists(f\"./labeled-datasets_embedding/{dataset}\"):\n",
    "\t\tos.makedirs(f\"./labeled-datasets_embedding/{dataset}\")\n",
    "\t\n",
    "\t## save the embedding\n",
    "\tnp.save(f\"./labeled-datasets_embedding/{dataset}/densmap.npy\", densmap_emb)\n",
    "\tnp.save(f\"./labeled-datasets_embedding/{dataset}/isomap.npy\", isomap_emb)\n",
    "\tnp.save(f\"./labeled-datasets_embedding/{dataset}/lle.npy\", lle_emb)\n",
    "\tnp.save(f\"./labeled-datasets_embedding/{dataset}/umap.npy\", umap_emb)\n",
    "\tnp.save(f\"./labeled-datasets_embedding/{dataset}/tsne.npy\", tsne_emb)\n",
    "\tnp.save(f\"./labeled-datasets_embedding/{dataset}/pca.npy\", pca_emb)\n",
    "\tnp.save(f\"./labeled-datasets_embedding/{dataset}/random.npy\", random_emb)\n",
    "\tif len(np.unique(labels)) > 2:\n",
    "\t\tnp.save(f\"./labeled-datasets_embedding/{dataset}/lda.npy\", lda_emb)"
   ]
  },
  {
   "cell_type": "markdown",
   "metadata": {},
   "source": [
    "#### Generating t-SNE embedding with varying perplexity"
   ]
  },
  {
   "cell_type": "code",
   "execution_count": 4,
   "metadata": {},
   "outputs": [
    {
     "name": "stderr",
     "output_type": "stream",
     "text": [
      "100%|██████████| 12/12 [00:11<00:00,  1.08it/s]\n",
      "100%|██████████| 12/12 [05:59<00:00, 29.98s/it]\n",
      "100%|██████████| 12/12 [30:17<00:00, 151.48s/it]\n",
      "100%|██████████| 12/12 [11:07<00:00, 55.66s/it] \n",
      "100%|██████████| 12/12 [03:20<00:00, 16.74s/it]\n",
      "100%|██████████| 12/12 [00:11<00:00,  1.02it/s]\n",
      "100%|██████████| 12/12 [00:14<00:00,  1.22s/it]\n",
      "100%|██████████| 12/12 [00:18<00:00,  1.57s/it]\n",
      "100%|██████████| 12/12 [00:34<00:00,  2.90s/it]\n",
      "100%|██████████| 12/12 [01:28<00:00,  7.40s/it]\n",
      "100%|██████████| 12/12 [00:49<00:00,  4.12s/it]\n",
      "100%|██████████| 12/12 [00:12<00:00,  1.05s/it]\n",
      "100%|██████████| 12/12 [02:07<00:00, 10.66s/it]\n",
      "100%|██████████| 12/12 [03:34<00:00, 17.90s/it]\n",
      "100%|██████████| 12/12 [00:07<00:00,  1.70it/s]\n",
      "100%|██████████| 12/12 [00:30<00:00,  2.56s/it]\n",
      "100%|██████████| 12/12 [00:04<00:00,  2.68it/s]\n",
      "100%|██████████| 12/12 [01:20<00:00,  6.71s/it]\n",
      "100%|██████████| 12/12 [00:32<00:00,  2.71s/it]\n",
      "100%|██████████| 12/12 [09:05<00:00, 45.43s/it] \n",
      "100%|██████████| 12/12 [15:49<00:00, 79.16s/it] \n",
      "100%|██████████| 12/12 [36:07<00:00, 180.60s/it]\n",
      "100%|██████████| 12/12 [00:25<00:00,  2.10s/it]\n",
      "100%|██████████| 12/12 [00:40<00:00,  3.39s/it]\n",
      "100%|██████████| 12/12 [00:08<00:00,  1.46it/s]\n",
      "100%|██████████| 12/12 [00:09<00:00,  1.28it/s]\n",
      "100%|██████████| 12/12 [00:43<00:00,  3.64s/it]\n",
      "100%|██████████| 12/12 [06:45<00:00, 33.77s/it]\n",
      "100%|██████████| 12/12 [10:18<00:00, 51.56s/it] \n",
      "100%|██████████| 12/12 [07:27<00:00, 37.32s/it]\n",
      "100%|██████████| 12/12 [00:12<00:00,  1.01s/it]\n",
      "100%|██████████| 12/12 [00:12<00:00,  1.04s/it]\n",
      "100%|██████████| 12/12 [00:28<00:00,  2.38s/it]\n",
      "100%|██████████| 12/12 [00:32<00:00,  2.74s/it]\n",
      "100%|██████████| 12/12 [00:12<00:00,  1.07s/it]\n",
      "100%|██████████| 12/12 [00:34<00:00,  2.88s/it]\n",
      "100%|██████████| 12/12 [03:02<00:00, 15.24s/it]\n",
      "100%|██████████| 12/12 [00:27<00:00,  2.27s/it]\n",
      "100%|██████████| 12/12 [00:21<00:00,  1.79s/it]\n",
      "100%|██████████| 12/12 [00:12<00:00,  1.01s/it]\n",
      "100%|██████████| 12/12 [00:39<00:00,  3.29s/it]\n",
      "100%|██████████| 12/12 [03:45<00:00, 18.77s/it]\n",
      "100%|██████████| 12/12 [01:12<00:00,  6.04s/it]\n",
      "100%|██████████| 12/12 [12:02<00:00, 60.19s/it] \n",
      "100%|██████████| 12/12 [00:15<00:00,  1.29s/it]\n",
      "100%|██████████| 12/12 [00:07<00:00,  1.53it/s]\n",
      "100%|██████████| 12/12 [00:13<00:00,  1.15s/it]\n",
      "100%|██████████| 12/12 [24:35<00:00, 122.96s/it]\n",
      "100%|██████████| 12/12 [51:27<00:00, 257.33s/it]\n",
      "100%|██████████| 12/12 [00:17<00:00,  1.43s/it]\n",
      "100%|██████████| 12/12 [02:46<00:00, 13.86s/it]\n",
      "100%|██████████| 12/12 [06:11<00:00, 30.99s/it]\n",
      "100%|██████████| 12/12 [00:11<00:00,  1.08it/s]\n",
      "100%|██████████| 12/12 [00:15<00:00,  1.29s/it]\n",
      "100%|██████████| 12/12 [00:16<00:00,  1.39s/it]\n",
      "100%|██████████| 12/12 [00:17<00:00,  1.48s/it]\n",
      "100%|██████████| 12/12 [00:27<00:00,  2.26s/it]\n",
      "100%|██████████| 12/12 [06:47<00:00, 33.94s/it]\n",
      "100%|██████████| 12/12 [05:37<00:00, 28.12s/it]\n",
      "100%|██████████| 12/12 [00:56<00:00,  4.74s/it]\n",
      "100%|██████████| 12/12 [01:17<00:00,  6.49s/it]\n",
      "100%|██████████| 12/12 [01:42<00:00,  8.54s/it]\n",
      "100%|██████████| 12/12 [00:17<00:00,  1.43s/it]\n",
      "100%|██████████| 12/12 [00:09<00:00,  1.26it/s]\n",
      "100%|██████████| 12/12 [02:11<00:00, 10.98s/it]\n",
      "100%|██████████| 12/12 [01:23<00:00,  6.95s/it]\n",
      "100%|██████████| 12/12 [01:11<00:00,  6.00s/it]\n",
      "100%|██████████| 12/12 [00:49<00:00,  4.10s/it]\n",
      "100%|██████████| 12/12 [01:11<00:00,  5.93s/it]\n",
      "100%|██████████| 12/12 [00:43<00:00,  3.66s/it]\n",
      "100%|██████████| 12/12 [00:10<00:00,  1.15it/s]\n",
      "100%|██████████| 12/12 [00:08<00:00,  1.34it/s]\n",
      "100%|██████████| 12/12 [00:52<00:00,  4.34s/it]\n",
      "100%|██████████| 12/12 [00:12<00:00,  1.07s/it]\n",
      "100%|██████████| 12/12 [00:11<00:00,  1.07it/s]\n",
      "100%|██████████| 12/12 [00:36<00:00,  3.06s/it]\n",
      "100%|██████████| 12/12 [18:08<00:00, 90.70s/it] \n",
      "100%|██████████| 12/12 [10:20<00:00, 51.74s/it]\n",
      "100%|██████████| 12/12 [01:03<00:00,  5.29s/it]\n",
      "100%|██████████| 12/12 [55:07<00:00, 275.63s/it]\n",
      "100%|██████████| 12/12 [11:36<00:00, 58.03s/it] \n",
      "100%|██████████| 12/12 [02:07<00:00, 10.62s/it]\n",
      "100%|██████████| 12/12 [01:50<00:00,  9.22s/it]\n",
      "100%|██████████| 12/12 [34:56<00:00, 174.72s/it]\n",
      "100%|██████████| 12/12 [01:35<00:00,  7.95s/it]\n",
      "100%|██████████| 12/12 [04:38<00:00, 23.24s/it]\n",
      "100%|██████████| 12/12 [15:08<00:00, 75.72s/it] \n",
      "100%|██████████| 12/12 [31:43<00:00, 158.61s/it]\n",
      "100%|██████████| 12/12 [02:01<00:00, 10.09s/it]\n",
      "100%|██████████| 12/12 [03:34<00:00, 17.88s/it]\n",
      "100%|██████████| 12/12 [01:49<00:00,  9.10s/it]\n",
      "100%|██████████| 12/12 [02:31<00:00, 12.61s/it]\n",
      "100%|██████████| 12/12 [00:48<00:00,  4.04s/it]\n",
      "100%|██████████| 12/12 [00:37<00:00,  3.11s/it]\n"
     ]
    }
   ],
   "source": [
    "for i, dataset in enumerate(datasets):\n",
    "\traw = np.load(f\"./labeled-datasets/npy/{dataset}/data.npy\")\n",
    "\traw = (raw - raw.mean(axis=0)) / raw.std(axis=0)\n",
    "\traw = raw[:, ~np.isnan(raw).any(axis=0)]\n",
    "\tlabels = np.load(f\"./labeled-datasets/npy/{dataset}/label.npy\")\n",
    "\tfor perplexity in tqdm([1, 2, 4, 8, 16, 32, 64, 128, 256, 512, 1024, 2048]):\n",
    "\t\ttsne_emb = TSNE(n_components=2, perplexity=perplexity).fit_transform(raw)\n",
    "\t\tnp.save(f\"./labeled-datasets_embedding/{dataset}/tsne_{perplexity}.npy\", tsne_emb)"
   ]
  },
  {
   "cell_type": "markdown",
   "metadata": {},
   "source": [
    "### Running Preliminary exp"
   ]
  },
  {
   "cell_type": "code",
   "execution_count": 27,
   "metadata": {},
   "outputs": [
    {
     "name": "stderr",
     "output_type": "stream",
     "text": [
      "100%|██████████| 94/94 [01:29<00:00,  1.06it/s]\n"
     ]
    }
   ],
   "source": [
    "lda_sil_scores = []\n",
    "umap_sil_scores = []\n",
    "tsne_sil_scores = []\n",
    "pca_sil_scores = []\n",
    "isomap_sil_scores = []\n",
    "lda_dsc_scores = []\n",
    "umap_dsc_scores = []\n",
    "tsne_dsc_scores = []\n",
    "pca_dsc_scores = []\n",
    "isomap_dsc_scores = []\n",
    "for dataset in tqdm(datasets):\n",
    "\t## if exists, load the lda embedding\n",
    "\tif os.path.exists(f\"./labeled-datasets_embedding/{dataset}/lda.npy\"):\n",
    "\t\tlda_emb = np.load(f\"./labeled-datasets_embedding/{dataset}/lda.npy\")\n",
    "\t\tumap_emb = np.load(f\"./labeled-datasets_embedding/{dataset}/umap.npy\")\n",
    "\t\ttsne_emb = np.load(f\"./labeled-datasets_embedding/{dataset}/tsne.npy\")\n",
    "\t\tpca_emb = np.load(f\"./labeled-datasets_embedding/{dataset}/pca.npy\")\n",
    "\t\tisomap_emb = np.load(f\"./labeled-datasets_embedding/{dataset}/isomap.npy\")\n",
    "\t\tlabels = np.load(f\"./labeled-datasets/npy/{dataset}/label.npy\")\n",
    "\t\tlda_sil_scores.append(silhouette_score(lda_emb, labels))\n",
    "\t\tumap_sil_scores.append(silhouette_score(umap_emb, labels))\n",
    "\t\ttsne_sil_scores.append(silhouette_score(tsne_emb, labels))\n",
    "\t\tpca_sil_scores.append(silhouette_score(pca_emb, labels))\n",
    "\t\tisomap_sil_scores.append(silhouette_score(isomap_emb, labels))\n",
    "\t\tlda_dsc_scores.append(1 - dsc(lda_emb, labels))\n",
    "\t\tumap_dsc_scores.append(1 - dsc(umap_emb, labels))\n",
    "\t\ttsne_dsc_scores.append(1 - dsc(tsne_emb, labels))\n",
    "\t\tpca_dsc_scores.append(1 - dsc(pca_emb, labels))\n",
    "\t\tisomap_dsc_scores.append(1 - dsc(isomap_emb, labels))\n",
    "\telse:\n",
    "\t\tpass\n",
    "\n",
    "\n"
   ]
  },
  {
   "cell_type": "code",
   "execution_count": 28,
   "metadata": {},
   "outputs": [
    {
     "data": {
      "image/png": "[encoded data removed]",
      "text/plain": [
       "<Figure size 576x252 with 2 Axes>"
      ]
     },
     "metadata": {},
     "output_type": "display_data"
    }
   ],
   "source": [
    "## plot the results in boxplot\n",
    "sns.set(style=\"whitegrid\")\n",
    "fig, axs = plt.subplots(1, 2, figsize=(8, 3.5))\n",
    "\n",
    "\n",
    "sil_df = pd.DataFrame({\n",
    "\t\"embedding\": [\"LDA\"] * len(lda_sil_scores) + [\"UMAP\"] * len(umap_sil_scores) + [\"t-SNE\"] * len(tsne_sil_scores) + [\"PCA\"] * len(pca_sil_scores) + [\"Isomap\"] * len(isomap_sil_scores),\n",
    "\t\"values\": lda_sil_scores + umap_sil_scores + tsne_sil_scores + pca_sil_scores  + isomap_sil_scores\n",
    "})\n",
    "\n",
    "dsc_df = pd.DataFrame({\n",
    "\t\"embedding\": [\"LDA\"] * len(lda_dsc_scores) + [\"UMAP\"] * len(umap_dsc_scores) + [\"t-SNE\"] * len(tsne_dsc_scores) + [\"PCA\"] * len(pca_dsc_scores) + [\"Isomap\"] * len(isomap_dsc_scores),\n",
    "\t\"values\": lda_dsc_scores + umap_dsc_scores + tsne_dsc_scores + pca_dsc_scores + isomap_dsc_scores\n",
    "})\n",
    "\n",
    "\n",
    "sns.pointplot(x=\"embedding\", y=\"values\", hue=\"embedding\",data=sil_df, ax=axs[0], join=False)\n",
    "axs[0].set_xlabel(\"Embeddings\")\n",
    "axs[0].set_ylabel(\"Silhouette\")\n",
    "axs[0].legend_.remove()\n",
    "\n",
    "sns.pointplot(x=\"embedding\", y=\"values\", hue=\"embedding\", data=dsc_df, ax=axs[1], join=False)\n",
    "axs[1].set_xlabel(\"Embeddings\")\n",
    "axs[1].set_ylabel(\"1 - Distance Consistency\")\n",
    "axs[1].legend_.remove()\n",
    "\n",
    "plt.tight_layout()\n",
    "plt.savefig(\"./plot/preliminary.pdf\", dpi=300)\n",
    "plt.show()"
   ]
  },
  {
   "cell_type": "markdown",
   "metadata": {},
   "source": [
    "#### Statistical test"
   ]
  },
  {
   "cell_type": "code",
   "execution_count": 19,
   "metadata": {},
   "outputs": [
    {
     "name": "stdout",
     "output_type": "stream",
     "text": [
      "FOR SILHOUETTE\n",
      "                 sum_sq     df        F    PR(>F)\n",
      "C(embedding)   0.996938    3.0  4.57445  0.004051\n",
      "Residual      13.947910  192.0      NaN       NaN\n",
      "Test Multiple Comparison ttest_ind \n",
      "FWER=0.05 method=bonferroni\n",
      "alphacSidak=0.01, alphacBonf=0.008\n",
      "=============================================\n",
      "group1 group2   stat   pval  pval_corr reject\n",
      "---------------------------------------------\n",
      "   LDA    PCA  4.0422 0.0001    0.0006   True\n",
      "   LDA   UMAP  1.5436  0.126    0.7559  False\n",
      "   LDA  t-SNE   1.922 0.0576    0.3454  False\n",
      "   PCA   UMAP  -2.052 0.0429    0.2574  False\n",
      "   PCA  t-SNE -1.8914 0.0616    0.3695  False\n",
      "  UMAP  t-SNE  0.2617 0.7941       1.0  False\n",
      "---------------------------------------------\n",
      "FOR 1 - DSC\n",
      "                sum_sq     df         F    PR(>F)\n",
      "C(embedding)   0.54429    3.0  1.456628  0.227764\n",
      "Residual      23.91452  192.0       NaN       NaN\n",
      "Test Multiple Comparison ttest_ind \n",
      "FWER=0.05 method=bonferroni\n",
      "alphacSidak=0.01, alphacBonf=0.008\n",
      "=============================================\n",
      "group1 group2   stat   pval  pval_corr reject\n",
      "---------------------------------------------\n",
      "   LDA    PCA  2.1274  0.036    0.2157  False\n",
      "   LDA   UMAP  0.8178 0.4155       1.0  False\n",
      "   LDA  t-SNE  0.8894  0.376       1.0  False\n",
      "   PCA   UMAP -1.2632 0.2096       1.0  False\n",
      "   PCA  t-SNE -1.1949 0.2351       1.0  False\n",
      "  UMAP  t-SNE  0.0689 0.9452       1.0  False\n",
      "---------------------------------------------\n"
     ]
    }
   ],
   "source": [
    "print(\"FOR SILHOUETTE\")\n",
    "\n",
    "model = ols(\"values ~ C(embedding)\", data = sil_df).fit()\n",
    "anova_table = sm.stats.anova_lm(model, typ=2)\n",
    "print(anova_table)\n",
    "\n",
    "## perform bonferroni  (multiple comparison)\n",
    "mc_results = mc.MultiComparison(sil_df[\"values\"], sil_df[\"embedding\"])\n",
    "mc_results_results = mc_results.allpairtest(stats.ttest_ind, method='bonferroni')\n",
    "print(mc_results_results[0])\n",
    "\n",
    "# mc_results = mc.MultiComparison(sil_df[\"values\"], sil_df[\"embedding\"])\n",
    "# mc_results_results = mc_results.tukeyhsd()\n",
    "# print(mc_results_results)\n",
    "\n",
    "print(\"FOR 1 - DSC\")\n",
    "model = ols(\"values ~ C(embedding)\", data = dsc_df).fit()\n",
    "anova_table = sm.stats.anova_lm(model, typ=2)\n",
    "print(anova_table)\n",
    "\n",
    "## perform tukeyhsd  (multiple comparison)\n",
    "mc_results = mc.MultiComparison(dsc_df[\"values\"], dsc_df[\"embedding\"])\n",
    "mc_results_results = mc_results.allpairtest(stats.ttest_ind, method='bonferroni')\n",
    "print(mc_results_results[0])\n"
   ]
  },
  {
   "cell_type": "markdown",
   "metadata": {},
   "source": [
    "### Running scalability exp => check `scalability_exp.py`"
   ]
  },
  {
   "cell_type": "code",
   "execution_count": 4,
   "metadata": {},
   "outputs": [
    {
     "data": {
      "image/png": "[encoded data removed]",
      "text/plain": [
       "<Figure size 504x201.6 with 1 Axes>"
      ]
     },
     "metadata": {},
     "output_type": "display_data"
    }
   ],
   "source": [
    "dr_measures = [\"lsnc_dsc\", \"lsnc_btw_ch\", \"snc\", \"tnc\", \"mrre\", \"kl_div\", \"dtm\", \"silhouette\", \"dsc\" ]\n",
    "dr_measures_name = [\"Label-T&C (DSC)\", \"Label-T&C (CH$_{btwn}$)\",  \"S&C\", \"T&C\", \"MRRE\", \"KL Div.\", \"DTM\", \"SC\", \"DSC\"]\n",
    "\n",
    "## generating pandas dataframe that holds the results\n",
    "results_df = pd.DataFrame({\n",
    "\t\"measure\": [],\n",
    "\t\"time\": [],\n",
    "})\n",
    "for dr_measure in dr_measures:\n",
    "\tdr_measure_time = np.load(f\"./scalability_results/{dr_measure}_time.npy\")\n",
    "\tresults_df = results_df.append(pd.DataFrame({\n",
    "\t\t\"measure\": [dr_measure] * len(dr_measure_time),\n",
    "\t\t\"time\": dr_measure_time,\n",
    "\t}), ignore_index = True)\n",
    "\n",
    "## plotting the results using boxplot (seaborn)\n",
    "plt.figure(figsize = (7, 2.8))\n",
    "\n",
    "sns.set_style(\"whitegrid\")\n",
    "\n",
    "sns.pointplot(x = \"time\", y = \"measure\", hue=\"measure\", data = results_df)\n",
    "# plt.yscale(\"log\")\n",
    "plt.yticks(range(len(dr_measures)), dr_measures_name)\n",
    "plt.xlabel(\"Measures\")\n",
    "plt.ylabel(\"Time (s)\")\n",
    "## remove label\n",
    "plt.legend().set_visible(False)\n",
    "\n",
    "plt.tight_layout()\n",
    "\n",
    "plt.savefig(\"./plot/scalability.pdf\", dpi=300)"
   ]
  },
  {
   "cell_type": "markdown",
   "metadata": {},
   "source": [
    "### Statistical test"
   ]
  },
  {
   "cell_type": "code",
   "execution_count": 24,
   "metadata": {},
   "outputs": [
    {
     "name": "stdout",
     "output_type": "stream",
     "text": [
      "                  sum_sq      df          F        PR(>F)\n",
      "C(measure)   1077.416509     6.0  10.563736  1.275699e-11\n",
      "Residual    45573.423668  2681.0        NaN           NaN\n",
      "     Multiple Comparison of Means - Tukey HSD, FWER=0.05      \n",
      "==============================================================\n",
      "   group1      group2   meandiff p-adj   lower   upper  reject\n",
      "--------------------------------------------------------------\n",
      "        dtm      kl_div   0.0055    1.0 -0.8724  0.8835  False\n",
      "        dtm lsnc_btw_ch  -0.0927 0.9999 -0.9706  0.7853  False\n",
      "        dtm        mrre  -0.1966 0.9946 -1.0745  0.6814  False\n",
      "        dtm  silhouette  -0.5875 0.4312 -1.4655  0.2904  False\n",
      "        dtm         snc   1.5792    0.0  0.7013  2.4572   True\n",
      "        dtm         tnc   0.0601    1.0 -0.8179   0.938  False\n",
      "     kl_div lsnc_btw_ch  -0.0982 0.9999 -0.9761  0.7797  False\n",
      "     kl_div        mrre  -0.2021 0.9937   -1.08  0.6758  False\n",
      "     kl_div  silhouette  -0.5931 0.4192  -1.471  0.2849  False\n",
      "     kl_div         snc   1.5737    0.0  0.6958  2.4516   True\n",
      "     kl_div         tnc   0.0546    1.0 -0.8234  0.9325  False\n",
      "lsnc_btw_ch        mrre  -0.1039 0.9999 -0.9818   0.774  False\n",
      "lsnc_btw_ch  silhouette  -0.4949 0.6408 -1.3728  0.3831  False\n",
      "lsnc_btw_ch         snc   1.6719    0.0   0.794  2.5498   True\n",
      "lsnc_btw_ch         tnc   0.1527 0.9987 -0.7252  1.0307  False\n",
      "       mrre  silhouette   -0.391 0.8456 -1.2689   0.487  False\n",
      "       mrre         snc   1.7758    0.0  0.8979  2.6537   True\n",
      "       mrre         tnc   0.2566 0.9779 -0.6213  1.1346  False\n",
      " silhouette         snc   2.1668    0.0  1.2888  3.0447   True\n",
      " silhouette         tnc   0.6476 0.3086 -0.2303  1.5255  False\n",
      "        snc         tnc  -1.5192    0.0 -2.3971 -0.6412   True\n",
      "--------------------------------------------------------------\n"
     ]
    }
   ],
   "source": [
    "\n",
    "model = ols(\"time ~ C(measure)\", data = results_df).fit()\n",
    "anova_table = sm.stats.anova_lm(model, typ=2)\n",
    "print(anova_table)\n",
    "\n",
    "## perform tukeyhsd  (multiple comparison)\n",
    "mc_results = mc.MultiComparison(results_df[\"time\"], results_df[\"measure\"])\n",
    "mc_results_results = mc_results.tukeyhsd()\n",
    "print(mc_results_results)\n"
   ]
  }
 ],
 "metadata": {
  "kernelspec": {
   "display_name": "Python 3.8.5 ('base': conda)",
   "language": "python",
   "name": "python3"
  },
  "language_info": {
   "codemirror_mode": {
    "name": "ipython",
    "version": 3
   },
   "file_extension": ".py",
   "mimetype": "text/x-python",
   "name": "python",
   "nbconvert_exporter": "python",
   "pygments_lexer": "ipython3",
   "version": "3.8.5 (default, Sep  4 2020, 07:30:14) \n[GCC 7.3.0]"
  },
  "orig_nbformat": 4,
  "vscode": {
   "interpreter": {
    "hash": "999de06ac1450a78a70b06b4b0bc96519bd96aac782a45474dde65c4f0c889b7"
   }
  }
 },
 "nbformat": 4,
 "nbformat_minor": 2
}
