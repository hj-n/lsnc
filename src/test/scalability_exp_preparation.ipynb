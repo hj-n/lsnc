{
 "cells": [
  {
   "cell_type": "code",
   "execution_count": 11,
   "metadata": {},
   "outputs": [],
   "source": [
    "import numpy as np\n",
    "import os\n",
    "from sklearn.manifold import TSNE\n",
    "from sklearn.decomposition import PCA\n",
    "from sklearn.random_projection import GaussianRandomProjection, SparseRandomProjection\n",
    "import umap\n",
    "from tqdm import tqdm\n",
    "\n",
    "## turn off warning\n",
    "import warnings\n",
    "warnings.filterwarnings(\"ignore\")\n",
    "\n",
    "## generating the list of datasets\n",
    "datasets = []\n",
    "for directory in os.listdir(\"./labeled-datasets/npy/\"):\n",
    "\tif (\n",
    "\t\tdirectory != \".DS_Store\"\n",
    "\t\tand directory != \"README.md\"\n",
    "\t\tand directory != \".gitignore\"\n",
    "\t\tand not directory.endswith(\".zip\")\n",
    "\t):\n",
    "\t\tdatasets.append(directory)"
   ]
  },
  {
   "cell_type": "markdown",
   "metadata": {},
   "source": [
    "### Dataset (Embedding) Generation"
   ]
  },
  {
   "cell_type": "code",
   "execution_count": 12,
   "metadata": {},
   "outputs": [
    {
     "name": "stderr",
     "output_type": "stream",
     "text": [
      "  1%|          | 1/96 [00:02<04:13,  2.67s/it]"
     ]
    }
   ],
   "source": [
    "for dataset in tqdm(datasets):\n",
    "\traw = np.load(f\"./labeled-datasets/npy/{dataset}/data.npy\")\n",
    "\tumap_emb = umap.UMAP(n_components=2).fit_transform(raw)\n",
    "\ttsne_emb = TSNE(n_components=2).fit_transform(raw)\n",
    "\tpca_emb = PCA(n_components=2).fit_transform(raw)\n",
    "\trandom_emb = SparseRandomProjection(n_components=2).fit_transform(raw)\n",
    "\n",
    "\t## if the directory does not exists, make it\n",
    "\tif not os.path.exists(f\"./labeled-datasets_embedding/{dataset}\"):\n",
    "\t\tos.makedirs(f\"./labeled-datasets_embedding/{dataset}\")\n",
    "\t\n",
    "\tnp.save(f\"./labeled-datasets_embedding/{dataset}/umap.npy\", umap_emb)\n",
    "\tnp.save(f\"./labeled-datasets_embedding/{dataset}/tsne.npy\", tsne_emb)\n",
    "\tnp.save(f\"./labeled-datasets_embedding/{dataset}/pca.npy\", pca_emb)\n",
    "\tnp.save(f\"./labeled-datasets_embedding/{dataset}/random.npy\", random_emb)\n"
   ]
  }
 ],
 "metadata": {
  "kernelspec": {
   "display_name": "Python 3.8.5 ('base': conda)",
   "language": "python",
   "name": "python3"
  },
  "language_info": {
   "codemirror_mode": {
    "name": "ipython",
    "version": 3
   },
   "file_extension": ".py",
   "mimetype": "text/x-python",
   "name": "python",
   "nbconvert_exporter": "python",
   "pygments_lexer": "ipython3",
   "version": "3.8.5"
  },
  "orig_nbformat": 4,
  "vscode": {
   "interpreter": {
    "hash": "999de06ac1450a78a70b06b4b0bc96519bd96aac782a45474dde65c4f0c889b7"
   }
  }
 },
 "nbformat": 4,
 "nbformat_minor": 2
}
