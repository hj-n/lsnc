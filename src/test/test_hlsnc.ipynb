{
 "cells": [
  {
   "cell_type": "code",
   "execution_count": null,
   "metadata": {},
   "outputs": [],
   "source": [
    "import sys\n",
    "sys.path.append('../lsnc/')\n",
    "from hierarchical_lsnc import HierarchicalLSNC\n",
    "import numpy as np\n",
    "from tqdm import tqdm\n",
    "import os\n",
    "import pandas as pd\n",
    "import matplotlib.pyplot as plt\n",
    "import seaborn as sns\n",
    "import altair as alt\n",
    "import itertools\n",
    "\n",
    "\n",
    "## import the list of datasets\n",
    "datasets = []\n",
    "for directory in os.listdir(\"./labeled-datasets/npy/\"):\n",
    "\tif (\n",
    "\t\tdirectory != \".DS_Store\"\n",
    "\t\tand directory != \"README.md\"\n",
    "\t\tand directory != \".gitignore\"\n",
    "\t\tand not directory.endswith(\".zip\")\n",
    "\t):\n",
    "\t\tdatasets.append(directory)\n",
    "\n",
    "## load the data\n",
    "raw_list     = []\n",
    "label_list   = []\n",
    "tsne_list    = []\n",
    "umap_list    = []\n",
    "pca_list\t   = []\n",
    "iso_list\t   = []\n",
    "lle_list     = []\n",
    "densmap_list = []\n",
    "\n",
    "for dataset in tqdm(datasets):\n",
    "\traw = np.nan_to_num(np.load(f\"./labeled-datasets/npy/{dataset}/data.npy\"))\n",
    "\traw = (raw - raw.mean(axis=0)) / raw.std(axis=0)\n",
    "\traw = raw[:, ~np.isnan(raw).any(axis=0)]\n",
    "\traw_list.append(raw)\n",
    "\tlabel_list.append(np.load(\"./labeled-datasets/npy/{}/label.npy\".format(dataset)))\n",
    "\ttsne_list.append(np.load(\"./labeled-datasets_embedding/{}/tsne.npy\".format(dataset)))\n",
    "\tumap_list.append(np.load(\"./labeled-datasets_embedding/{}/umap.npy\".format(dataset)))\n",
    "\tpca_list.append(np.load(\"./labeled-datasets_embedding/{}/pca.npy\".format(dataset)))\n",
    "\tiso_list.append(np.load(\"./labeled-datasets_embedding/{}/isomap.npy\".format(dataset)))\n",
    "\tlle_list.append(np.load(\"./labeled-datasets_embedding/{}/lle.npy\".format(dataset)))\n",
    "\tdensmap_list.append(np.load(\"./labeled-datasets_embedding/{}/densmap.npy\".format(dataset)))\n",
    "\n",
    "\n"
   ]
  },
  {
   "cell_type": "code",
   "execution_count": null,
   "metadata": {},
   "outputs": [],
   "source": [
    "def runEmbeddings(emb_list):\n",
    "    frames = []\n",
    "    for idx, (raw, emb, label) in enumerate(zip(raw_list, emb_list, label_list)):\n",
    "        print(f'Dataset: {idx}')\n",
    "        #if idx != 0: continue\n",
    "        try: \n",
    "            hlsnc = HierarchicalLSNC(raw, emb)\n",
    "            result = hlsnc.run(granularity=10)\n",
    "            frames.append({\n",
    "                \"dataset\": idx,\n",
    "                \"ls\": result[\"ls\"],\n",
    "                \"lc\": result[\"lc\"],\n",
    "                \"unique_raw_label\": np.unique(label).tolist()\n",
    "            })\n",
    "        except: \n",
    "            print(f\"Error in: {idx}\")\n",
    "    return frames"
   ]
  },
  {
   "cell_type": "code",
   "execution_count": null,
   "metadata": {},
   "outputs": [],
   "source": [
    "dr_types = ['tsne', 'umap', 'pca', 'iso', 'lle', 'densmap']\n",
    "embs = [tsne_list, umap_list, pca_list, iso_list, lle_list, densmap_list]\n",
    "\n",
    "frames = []\n",
    "for dr_type, emb in zip(dr_types, embs):\n",
    "    results = runEmbeddings(emb)\n",
    "    frames.append({\n",
    "        'result': results,\n",
    "        'dr_type': dr_type,\n",
    "    })"
   ]
  },
  {
   "cell_type": "code",
   "execution_count": null,
   "metadata": {},
   "outputs": [],
   "source": [
    "import json\n",
    "with open('./shc_data/data_granularity_10.json', 'w') as f:\n",
    "    json.dump(frames, f)"
   ]
  },
  {
   "cell_type": "code",
   "execution_count": null,
   "metadata": {},
   "outputs": [],
   "source": [
    "'''\n",
    "Compare t-SNE / UMAP / PCA / Isomap / LLE / Densmap from using hierarchical LSNC (already imported)\n",
    "aggregate the results as a single line for each technique \n",
    "(use lineplot in seaborn)\n",
    "\n",
    "the final result should be a lineplot with 6 lines and confidence intervals (for each technique)\n",
    "'''\n",
    "def _reformat(nestedData: pd.DataFrame, column_name: str):\n",
    "    decouples = nestedData[column_name].apply(pd.Series)\n",
    "    decouples = pd.melt(decouples, value_vars=decouples.columns, var_name='level', value_name='score')\n",
    "    decouples = decouples.loc[~decouples['score'].isna(), :]\n",
    "    decouples['metric'] = column_name\n",
    "    return decouples\n",
    "\n",
    "stats = []\n",
    "for each in frames:\n",
    "    data = pd.DataFrame(each.get('result', None))\n",
    "    data_ls = _reformat(data, 'ls')\n",
    "    data_lc = _reformat(data, 'lc')\n",
    "    data = pd.concat([data_ls, data_lc], ignore_index=True)\n",
    "    data['type'] = each.get('dr_type', '')\n",
    "    stats.append(data)\n",
    "\n",
    "stats = pd.concat(stats, ignore_index=True)"
   ]
  },
  {
   "cell_type": "code",
   "execution_count": null,
   "metadata": {},
   "outputs": [],
   "source": [
    "plt.clf()\n",
    "sns.set_style(\"whitegrid\")\n",
    "\n",
    "fig, axes = plt.subplots(1, 2, figsize=(10, 4))\n",
    "dr_types = ['tsne', 'umap', 'pca', 'iso', 'lle', 'densmap']\n",
    "dr_names = ['t-SNE', 'UMAP', 'PCA', 'ISO', \"LLE\", 'Densmap']\n",
    "metrics = ['ls', 'lc']\n",
    "colors = [sns.color_palette('tab10')[i] for i in range(6)]\n",
    "\n",
    "for i, metric in enumerate(metrics):\n",
    "\tmask = (stats['metric'] == metric)\n",
    "\tsns.lineplot(x = \"level\", y = \"score\", hue = \"type\", data = stats.loc[mask, :], ax = axes[i%2])\n",
    "\n",
    "\t## set x axis log\n",
    "\t#axes[i%2].set_xscale(\"log\")\n",
    "\n",
    "\t## set label with measures_name\n",
    "\taxes[i%2].set_xlabel(\"Hierarchical Clustering Granularity\")\n",
    "\taxes[i%2].set_ylabel(\"Score\" if i == 0 else \"\")\n",
    "\taxes[i%2].set_title(\"Label-Stretching\" if i == 0 else \"Label-Compression\")\n",
    "\t## set legend\n",
    "\tif i== 0:\n",
    "\t\taxes[i].legend(labels=dr_names, title=None)\n",
    "\telse:\n",
    "\t\taxes[i].legend([],[], frameon=False)\n"
   ]
  },
  {
   "cell_type": "code",
   "execution_count": null,
   "metadata": {},
   "outputs": [],
   "source": []
  }
 ],
 "metadata": {
  "kernelspec": {
   "display_name": "Python 3.10.8 64-bit",
   "language": "python",
   "name": "python3"
  },
  "language_info": {
   "codemirror_mode": {
    "name": "ipython",
    "version": 3
   },
   "file_extension": ".py",
   "mimetype": "text/x-python",
   "name": "python",
   "nbconvert_exporter": "python",
   "pygments_lexer": "ipython3",
   "version": "3.10.8"
  },
  "orig_nbformat": 4,
  "vscode": {
   "interpreter": {
    "hash": "5cf590adf64b12f100e2631293f66eedf21812d31d21d345d3dafaac5b13c0f5"
   }
  }
 },
 "nbformat": 4,
 "nbformat_minor": 2
}
