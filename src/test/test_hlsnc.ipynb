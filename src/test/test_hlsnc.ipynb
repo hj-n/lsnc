{
 "cells": [
  {
   "cell_type": "code",
   "execution_count": 10,
   "metadata": {},
   "outputs": [
    {
     "name": "stderr",
     "output_type": "stream",
     "text": [
      "100%|██████████| 94/94 [00:00<00:00, 162.56it/s]\n"
     ]
    }
   ],
   "source": [
    "import sys\n",
    "sys.path.append('../lsnc/')\n",
    "from hierarchical_lsnc import HierarchicalLSNC\n",
    "import numpy as np\n",
    "from tqdm import tqdm\n",
    "import os\n",
    "\n",
    "\n",
    "## import the list of datasets\n",
    "datasets = []\n",
    "for directory in os.listdir(\"./labeled-datasets/npy/\"):\n",
    "\tif (\n",
    "\t\tdirectory != \".DS_Store\"\n",
    "\t\tand directory != \"README.md\"\n",
    "\t\tand directory != \".gitignore\"\n",
    "\t\tand not directory.endswith(\".zip\")\n",
    "\t):\n",
    "\t\tdatasets.append(directory)\n",
    "\n",
    "## load the data\n",
    "raw_list     = []\n",
    "label_list   = []\n",
    "tsne_list    = []\n",
    "umap_list    = []\n",
    "pca_list\t   = []\n",
    "iso_list\t   = []\n",
    "lle_list     = []\n",
    "densmap_list = []\n",
    "\n",
    "for dataset in tqdm(datasets):\n",
    "\traw_list.append(np.load(\"./labeled-datasets/npy/{}/data.npy\".format(dataset)))\n",
    "\tlabel_list.append(np.load(\"./labeled-datasets/npy/{}/label.npy\".format(dataset)))\n",
    "\ttsne_list.append(np.load(\"./labeled-datasets_embedding/{}/tsne.npy\".format(dataset)))\n",
    "\tumap_list.append(np.load(\"./labeled-datasets_embedding/{}/umap.npy\".format(dataset)))\n",
    "\tpca_list.append(np.load(\"./labeled-datasets_embedding/{}/pca.npy\".format(dataset)))\n",
    "\tiso_list.append(np.load(\"./labeled-datasets_embedding/{}/isomap.npy\".format(dataset)))\n",
    "\tlle_list.append(np.load(\"./labeled-datasets_embedding/{}/lle.npy\".format(dataset)))\n",
    "\tdensmap_list.append(np.load(\"./labeled-datasets_embedding/{}/densmap.npy\".format(dataset)))\n",
    "\n",
    "\n"
   ]
  },
  {
   "cell_type": "code",
   "execution_count": null,
   "metadata": {},
   "outputs": [],
   "source": [
    "'''\n",
    "Compare t-SNE / UMAP / PCA / Isomap / LLE / Densmap from using hierarchical LSNC (already imported)\n",
    "aggregate the results as a single line for each technique \n",
    "(use lineplot in seaborn)\n",
    "\n",
    "the final result should be a lineplot with 6 lines and confidence intervals (for each technique)\n",
    "'''\n",
    "\n",
    "\n",
    "\n",
    "\n"
   ]
  }
 ],
 "metadata": {
  "kernelspec": {
   "display_name": "Python 3.8.5 ('base')",
   "language": "python",
   "name": "python3"
  },
  "language_info": {
   "codemirror_mode": {
    "name": "ipython",
    "version": 3
   },
   "file_extension": ".py",
   "mimetype": "text/x-python",
   "name": "python",
   "nbconvert_exporter": "python",
   "pygments_lexer": "ipython3",
   "version": "3.8.5"
  },
  "orig_nbformat": 4,
  "vscode": {
   "interpreter": {
    "hash": "999de06ac1450a78a70b06b4b0bc96519bd96aac782a45474dde65c4f0c889b7"
   }
  }
 },
 "nbformat": 4,
 "nbformat_minor": 2
}
